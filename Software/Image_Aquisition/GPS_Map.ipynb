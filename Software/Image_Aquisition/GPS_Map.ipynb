{
 "cells": [
  {
   "cell_type": "code",
   "execution_count": 74,
   "metadata": {},
   "outputs": [
    {
     "data": {
      "image/png": "[encoded data removed]",
      "text/plain": [
       "<Figure size 432x288 with 1 Axes>"
      ]
     },
     "metadata": {},
     "output_type": "display_data"
    }
   ],
   "source": [
    "\n",
    "from mpl_toolkits.basemap import Basemap\n",
    "import matplotlib.pyplot as plt\n",
    "import numpy as np\n",
    "# setup Lambert Conformal basemap.\n",
    "\n",
    "# LEFT BOTTOM CORNER: llcrnrlat, llcrnrlon = 44.565185, -123.284382\n",
    "# RIGHT TOP CORNER: urcrnrlat, urcrnrlon = 44.567944, -123.280050\n",
    "\n",
    "m = Basemap(projection='mill',llcrnrlat=44.565185,urcrnrlat=44.567944,\\\n",
    "            llcrnrlon=-123.284382,urcrnrlon=-123.280050,resolution='c')\n",
    "# draw a boundary around the map, fill the background.\n",
    "# this background will end up being the ocean color, since\n",
    "# the continents will be drawn on top.\n",
    "m.drawmapboundary(fill_color='aqua')\n",
    "# fill continents, set lake color same as ocean color.\n",
    "m.fillcontinents(color='coral',lake_color='aqua')\n",
    "# draw parallels and meridians.\n",
    "# label parallels on right and top\n",
    "# meridians on bottom and left\n",
    "parallels = np.arange(0.,81,10.)\n",
    "# labels = [left,right,top,bottom]\n",
    "m.drawparallels(parallels,labels=[False,True,True,False])\n",
    "meridians = np.arange(10.,351.,20.)\n",
    "m.drawmeridians(meridians,labels=[True,False,False,True])\n",
    "# plot blue dot on Boulder, colorado and label it as such.\n",
    "lon, lat = -104.237, 40.125 # Location of Boulder\n",
    "# convert to map projection coords.\n",
    "# Note that lon,lat can be scalars, lists or numpy arrays.\n",
    "xpt,ypt = m(lon,lat)\n",
    "# convert back to lat/lon\n",
    "lonpt, latpt = m(xpt,ypt,inverse=True)\n",
    "# m.plot(xpt,ypt,'bo')  # plot a blue dot there\n",
    "\n",
    "# Test 1: Editted but Coord 2 doesnt show up..\n",
    "## Coordinate 1: Pi2-> Stationary Pi\n",
    "lon_pi2_t1, lat_pi2_t1 = -123.28260, 44.56659 \n",
    "## Coordinate 2: Pi1-> Moving Pi\n",
    "lon_pi1_t1, lat_pi1_t1 =-123.28260, 44.56572 \n",
    "\n",
    "# Test 2: Editted\n",
    "## Coordinate 1: Pi2-> Stationary Pi\n",
    "lon_pi2_t2, lat_pi2_t2 = -123.28271, 44.56686\n",
    "## Coordinate 2: Pi1-> Moving Pi\n",
    "lon_pi1_t2, lat_pi1_t2 = -123.28260 , 44.56659\n",
    "\n",
    "# Test 3:\n",
    "## Coordinate 1: Pi2-> Stationary Pi\n",
    "lon_pi2_t3, lat_pi2_t3 =  -123.28272, 44.56695\n",
    "## Coordinate 2: Pi1-> Moving Pi\n",
    "lon_pi1_t3, lat_pi1_t3 = -123.28262, 44.56663\n",
    "\n",
    "# Test 4:\n",
    "## Coordinate 1: Pi2-> Stationary Pi\n",
    "lon_pi2_t4, lat_pi2_t4 =   -123.28248, 44.56686\n",
    "## Coordinate 2: Pi1-> Moving Pi\n",
    "lon_pi1_t4, lat_pi1_t4 =  -123.28264, 44.56662\n",
    "\n",
    "# Reproject the Coordinates based on the map projection\n",
    "# Test 1\n",
    "pi2_t1_x, pi2_t1_y = m(lon_pi2_t1, lat_pi2_t1)\n",
    "pi1_t1_x, pi1_t1_y = m(lon_pi1_t1, lat_pi1_t1)\n",
    "m.plot(pi2_t1_x, pi2_t1_y, 'b*')\n",
    "m.plot(pi1_t1_x, pi1_t1_y, 'bo')  # seems to be incorrect not in area...\n",
    "# Test 2\n",
    "pi2_t2_x, pi2_t2_y = m(lon_pi2_t2, lat_pi2_t2)\n",
    "pi1_t2_x, pi1_t2_y = m(lon_pi1_t2, lat_pi1_t2)\n",
    "m.plot(pi2_t2_x, pi2_t2_y, 'm*') # DOESNT SHOW UP....\n",
    "m.plot(pi1_t2_x, pi1_t2_y, 'mo')\n",
    "# Test 3\n",
    "pi2_t3_x, pi2_t3_y = m(lon_pi2_t3, lat_pi2_t3)\n",
    "pi1_t3_x, pi1_t3_y = m(lon_pi1_t3, lat_pi1_t3)\n",
    "m.plot(pi2_t3_x, pi2_t3_y, 'yo')\n",
    "m.plot(pi1_t3_x, pi1_t3_y, 'y*')\n",
    "# Test 4\n",
    "pi2_t4_x, pi2_t4_y = m(lon_pi2_t4, lat_pi2_t4)\n",
    "pi1_t4_x, pi1_t4_y = m(lon_pi1_t4, lat_pi1_t4)\n",
    "m.plot(pi2_t4_x, pi2_t4_y, 'c*')\n",
    "m.plot(pi1_t4_x, pi1_t4_y, 'co')\n",
    "\n",
    "\n",
    "# put some text next to the dot, offset a little bit\n",
    "# (the offset is in map projection coordinates)\n",
    "#plt.text(xpt+100000,ypt+100000,'Boulder (%5.1fW,%3.1fN)' % (lonpt,latpt))\n",
    "plt.show()\n",
    "\n",
    "# Preliminary Plot of the "
   ]
  },
  {
   "cell_type": "code",
   "execution_count": null,
   "metadata": {},
   "outputs": [],
   "source": []
  }
 ],
 "metadata": {
  "kernelspec": {
   "display_name": "Python 3.9.7 ('Warren_Lab')",
   "language": "python",
   "name": "python3"
  },
  "language_info": {
   "codemirror_mode": {
    "name": "ipython",
    "version": 3
   },
   "file_extension": ".py",
   "mimetype": "text/x-python",
   "name": "python",
   "nbconvert_exporter": "python",
   "pygments_lexer": "ipython3",
   "version": "3.9.7"
  },
  "orig_nbformat": 4,
  "vscode": {
   "interpreter": {
    "hash": "ec4fd43df588234be800306b20d22148d8a6bf29799a747a386d7b854fd2609b"
   }
  }
 },
 "nbformat": 4,
 "nbformat_minor": 2
}
